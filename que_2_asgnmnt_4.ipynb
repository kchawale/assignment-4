{
  "nbformat": 4,
  "nbformat_minor": 0,
  "metadata": {
    "colab": {
      "provenance": [],
      "authorship_tag": "ABX9TyNG4escmYZwebPA/gpTsfCP",
      "include_colab_link": true
    },
    "kernelspec": {
      "name": "python3",
      "display_name": "Python 3"
    },
    "language_info": {
      "name": "python"
    }
  },
  "cells": [
    {
      "cell_type": "markdown",
      "metadata": {
        "id": "view-in-github",
        "colab_type": "text"
      },
      "source": [
        "<a href=\"https://colab.research.google.com/github/kchawale/assignment-4/blob/main/que_2_asgnmnt_4.ipynb\" target=\"_parent\"><img src=\"https://colab.research.google.com/assets/colab-badge.svg\" alt=\"Open In Colab\"/></a>"
      ]
    },
    {
      "cell_type": "code",
      "execution_count": null,
      "metadata": {
        "colab": {
          "base_uri": "https://localhost:8080/"
        },
        "id": "lb6U9VUrsiF7",
        "outputId": "16b2890a-3275-4bab-cf1d-edd803fff1c3"
      },
      "outputs": [
        {
          "output_type": "stream",
          "name": "stdout",
          "text": [
            "Sample list:  [1, 2, 3, 4, 5, 6, 7]\n",
            "\n",
            "Triple of list numbers:\n",
            "[3, 6, 9, 12, 15, 18, 21]\n"
          ]
        }
      ],
      "source": [
        "#Write a Python program to triple all numbers of a given list of integers. Use Python map.\n",
        "\n",
        "l =  [1, 2, 3, 4, 5, 6, 7] \n",
        "print(\"Sample list: \", l)\n",
        "triple= map(lambda x: x + x + x, l) \n",
        "print(\"\\nTriple of list numbers:\")\n",
        "print(list(triple))"
      ]
    },
    {
      "cell_type": "code",
      "source": [
        "#Write a Python program to triple all numbers of a given list of integers. Use Python map.\n",
        "def triple(n):\n",
        " return n*3\n",
        "sample = [1, 2, 3, 4, 5, 6, 7]\n",
        "print(\"sample list:\", sample)\n",
        "result= map(triple, sample)\n",
        "print(\"\\nTriple of list numbers:\")\n",
        "print(list(result))"
      ],
      "metadata": {
        "colab": {
          "base_uri": "https://localhost:8080/"
        },
        "id": "j_Urj0SvvmWz",
        "outputId": "10524501-58b2-47ee-87dc-5c456152b030"
      },
      "execution_count": 2,
      "outputs": [
        {
          "output_type": "stream",
          "name": "stdout",
          "text": [
            "sample list: [1, 2, 3, 4, 5, 6, 7]\n",
            "\n",
            "Triple of list numbers:\n",
            "[3, 6, 9, 12, 15, 18, 21]\n"
          ]
        }
      ]
    }
  ]
}
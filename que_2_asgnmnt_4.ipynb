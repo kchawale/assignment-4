{
  "nbformat": 4,
  "nbformat_minor": 0,
  "metadata": {
    "colab": {
      "provenance": [],
      "authorship_tag": "ABX9TyNYI4oDG3zy8xQR9L/s8L2L",
      "include_colab_link": true
    },
    "kernelspec": {
      "name": "python3",
      "display_name": "Python 3"
    },
    "language_info": {
      "name": "python"
    }
  },
  "cells": [
    {
      "cell_type": "markdown",
      "metadata": {
        "id": "view-in-github",
        "colab_type": "text"
      },
      "source": [
        "<a href=\"https://colab.research.google.com/github/kchawale/assignment-4/blob/main/que_2_asgnmnt_4.ipynb\" target=\"_parent\"><img src=\"https://colab.research.google.com/assets/colab-badge.svg\" alt=\"Open In Colab\"/></a>"
      ]
    },
    {
      "cell_type": "code",
      "execution_count": 1,
      "metadata": {
        "colab": {
          "base_uri": "https://localhost:8080/"
        },
        "id": "lb6U9VUrsiF7",
        "outputId": "16b2890a-3275-4bab-cf1d-edd803fff1c3"
      },
      "outputs": [
        {
          "output_type": "stream",
          "name": "stdout",
          "text": [
            "Sample list:  [1, 2, 3, 4, 5, 6, 7]\n",
            "\n",
            "Triple of list numbers:\n",
            "[3, 6, 9, 12, 15, 18, 21]\n"
          ]
        }
      ],
      "source": [
        "#Write a Python program to triple all numbers of a given list of integers. Use Python map.\n",
        "\n",
        "l =  [1, 2, 3, 4, 5, 6, 7] \n",
        "print(\"Sample list: \", l)\n",
        "triple= map(lambda x: x + x + x, l) \n",
        "print(\"\\nTriple of list numbers:\")\n",
        "print(list(triple))"
      ]
    }
  ]
}
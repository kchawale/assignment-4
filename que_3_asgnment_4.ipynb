{
  "nbformat": 4,
  "nbformat_minor": 0,
  "metadata": {
    "colab": {
      "provenance": [],
      "authorship_tag": "ABX9TyOx28j8PJBg2WJD5SlACh+J",
      "include_colab_link": true
    },
    "kernelspec": {
      "name": "python3",
      "display_name": "Python 3"
    },
    "language_info": {
      "name": "python"
    }
  },
  "cells": [
    {
      "cell_type": "markdown",
      "metadata": {
        "id": "view-in-github",
        "colab_type": "text"
      },
      "source": [
        "<a href=\"https://colab.research.google.com/github/kchawale/assignment-4/blob/main/que_3_asgnment_4.ipynb\" target=\"_parent\"><img src=\"https://colab.research.google.com/assets/colab-badge.svg\" alt=\"Open In Colab\"/></a>"
      ]
    },
    {
      "cell_type": "code",
      "execution_count": 2,
      "metadata": {
        "colab": {
          "base_uri": "https://localhost:8080/"
        },
        "id": "S8N3sNNauBPN",
        "outputId": "8eb918c0-647b-4fef-d139-ceffe4fa8ab6"
      },
      "outputs": [
        {
          "output_type": "stream",
          "name": "stdout",
          "text": [
            "Sample list:  [4, 5, 2, 9]\n",
            "Square of the elements of the list:\n",
            "[16, 25, 4, 81]\n"
          ]
        }
      ],
      "source": [
        "# Write a Python program to square the elements of a list using map() function.\n",
        "\n",
        "def num_sq(n):\n",
        "  return n * n\n",
        "sample = [4, 5, 2, 9]\n",
        "print(\"Sample list: \",sample)\n",
        "result = map(num_sq, sample)\n",
        "print(\"Square of the elements of the list:\")\n",
        "print(list(result))"
      ]
    }
  ]
}